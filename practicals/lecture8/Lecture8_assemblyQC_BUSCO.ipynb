{
 "cells": [
  {
   "cell_type": "markdown",
   "id": "e48ad636-5a20-4e66-afab-1d282caa49c0",
   "metadata": {},
   "source": [
    "# Lecture 8 - Assembly, quality assessment, and predictions II\n",
    "\n",
    "The purpose of this tutorial is to continue exploring genome assemblies and the effect of read depth and error rates in the contiguity of assemblies. The first section of this tutorial will use BUSCO ([Simão et al., 2015](https://academic.oup.com/bioinformatics/article/31/19/3210/211866)) to evaluate the quality of the genome assemblies we have done so far: The Bacteria *Borrelia* and *Takifugu* fish species."
   ]
  },
  {
   "cell_type": "markdown",
   "id": "9f24fb21-a19b-48db-9418-2ab3c0726676",
   "metadata": {},
   "source": [
    "---\n",
    "\n",
    "## 1. Setting up the environment\n",
    "\n",
    "As always, we need to create an environment with the packages we will use throughout the tutorial.\n",
    "BUSCO [has a list of requirements](https://busco.ezlab.org/busco_userguide.html#manual-installation) that have [requirements themselves](https://github.com/Gaius-Augustus/Augustus). It can be diffifult to install it succesfully and it requires a little bit of patience.\n",
    "\n",
    "Try the first formula. If the environment is not solving and the process is killed, then try the second formula.\n",
    "If you already have installed BUSCO from the previous tutorial, go ahead and use that installation. You can check if your installation is working correctly by calling the help menu `busco -h`\n",
    "\n",
    "### 1.1. First formula"
   ]
  },
  {
   "cell_type": "code",
   "execution_count": null,
   "id": "0c66a531-f349-42f5-9c39-43623439cdee",
   "metadata": {},
   "outputs": [],
   "source": [
    "%%bash\n",
    "\n",
    "# FIRST RECIPE\n",
    "# GO to your working environment and create your folder for this tutorial\n",
    "mkdir lecture8\n",
    "cd lecture8\n",
    "\n",
    "# just in case you have a conda environment active; e.g. that the prompt has a name within brackets other tan \"(base)\"\n",
    "conda deactivate\n",
    "\n",
    "# create the environment with the first set of packages.\n",
    "# this recipe includes Augustus, although we won't use it per se\n",
    "# I recommend you create this environment in this order. In particular, installing Augustus and hmmer before BUSCO\n",
    "conda update -n base conda\n",
    "conda create -n busco augustus=3.2.3 samtools bcftools htslib boost zlib bamtools\n",
    "\n",
    "# activate the busco environment once the packages above are installed\n",
    "conda activate busco\n",
    "\n",
    "# continue installing the following packages\n",
    "conda install -c bioconda blast\n",
    "conda install -c bioconda hmmer\n",
    "conda install -c agbiome bbtools\n",
    "conda install -c bioconda metaeuk sepp\n",
    "conda install -c anaconda pandas\n",
    "\n",
    "# finish setting up the environment by installing busco\n",
    "conda install -c bioconda busco\n",
    "\n",
    "# test the installation\n",
    "busco -h\n",
    "makeblastdb -h\n",
    "samtools view\n",
    "\n",
    "# if the three above work, you are very lucky!\n",
    "\n",
    "# if you have an error regarding libcrypto and libssl:\n",
    "# you MUST run the following lines for things to run\n",
    "cd ~/anaconda3/envs/busco/lib\n",
    "ln -s libcrypto.so.1.1 libcrypto.so.1.0.0\n",
    "ln -s libssl.so.3 libssl.so.1.0.0\n",
    "\n",
    "# go back to your working folder\n",
    "cd path/to/folder/lecture8"
   ]
  },
  {
   "cell_type": "markdown",
   "id": "81bb6f76-c0f5-4e7b-b464-a0fad2fb8ec6",
   "metadata": {},
   "source": [
    "### 1.2. Second formula - go for this if something isn't working or if it is taking you too long to install the one above\n",
    "\n",
    "The installation above has a lot of moving gears and it is hard to get everything to work. Moreover, gears to synchronise are added by all of us having different versions of Conda, Ubuntu, and Operative Systems. When this happens, the best option for research reproducibility and running software smoothly, is to use [containers](https://en.wikipedia.org/wiki/Containerization_(computing)). Containers are completely closed systems. Unlike the environments, they include all packages and pieces of instructions to be able to run them regardless of the operative system's configuration. Environments like conda help you install packages but the environments can leak (when a package is using a path to a library outside the environment) andare not reproducible when the operative systems have different configurations. Basically, environments can work in some settings and not in others (as we are very well aware of, by now).\n",
    "\n",
    "This formula installs a containerisation program called [Singularity]() using conda and an environment for the singularity software. Then, we activate that environment and use Singularity to run BUSCO.\n",
    "\n",
    "For the installation:"
   ]
  },
  {
   "cell_type": "code",
   "execution_count": null,
   "id": "093d1171-1496-4395-938c-e9e40f48677b",
   "metadata": {},
   "outputs": [],
   "source": [
    "%%bash\n",
    "\n",
    "conda deactivate\n",
    "\n",
    "cd /path/to/lecture8\n",
    "\n",
    "conda create -n singularity -c conda-forge singularity\n",
    "conda activate singularity\n",
    "\n",
    "# this will use singularity to get the container that contains BUSCO v.5.2.2\n",
    "singularity pull docker://ezlabgva/busco:v5.2.2_cv1"
   ]
  },
  {
   "cell_type": "markdown",
   "id": "b5536f4a-5bae-4a83-980a-0f31f29cf487",
   "metadata": {},
   "source": [
    "### 1.3. Get the data read\n",
    "\n",
    "Once you \\*succesfully\\* install BUCSO, we can proceed to get the genome assemblies we will use for quality assessment and the single-copy ortholog gene databases from BUSCO\n",
    "\n",
    "Download the following files from **emokymai**, Lecture * folder:\n",
    "\n",
    "- bacteria.tar.gz\n",
    "- takifugu.tar.gz\n",
    "\n",
    "Place those files within the lecture8 folder in your computer (your current working folder). Then, proceed by using `tar` to untar (\\*tar) and decompress (\\*gz) the files in your working folder.\r\n"
   ]
  },
  {
   "cell_type": "code",
   "execution_count": null,
   "id": "69658f7a-f6ee-4263-82f3-77aaf3c58b36",
   "metadata": {},
   "outputs": [],
   "source": [
    "%%bash\n",
    "\n",
    "# place the files in your working directory \"lectuer8\"\n",
    "cd lecture8\n",
    "\n",
    "# decompress and un-tar the *tar.gz files\n",
    "tar xvzf bacteria.tar.gz\n",
    "tar xvzf takifugu.tar.gz"
   ]
  },
  {
   "cell_type": "markdown",
   "id": "2342be8e-57ec-4854-bc5b-4e543a49cb49",
   "metadata": {},
   "source": [
    "If for some reason you cannot run BUSCO and BUSCO cannot download its own databases (it does that by default), you can download them from their repository using `wget`\n",
    "\n",
    "**No neet to run it**, it is just for you to know :)"
   ]
  },
  {
   "cell_type": "code",
   "execution_count": null,
   "id": "cc70eb55-db18-4444-8655-af33890ba51f",
   "metadata": {},
   "outputs": [],
   "source": [
    "%%bash\n",
    "\n",
    "wget https://busco-data.ezlab.org/v5/data/lineages/spirochaetales_odb10.2020-03-06.tar.gz\n",
    "wget https://busco-data.ezlab.org/v5/data/lineages/actinopterygii_odb10.2020-03-06.tar.gz\n",
    "\n",
    "# un-tar and decompress the files so that BUSCO can use them\n",
    "tar xvzf spirochaetales_odb10.2020-03-06.tar.gz\n",
    "tar xvzf actinopterygii_odb10.2020-03-06.tar.gz"
   ]
  },
  {
   "cell_type": "markdown",
   "id": "55a794dc-fb73-45ec-b346-a49873e556e8",
   "metadata": {},
   "source": [
    "---\n",
    "\n",
    "## 2. Running BUSCO\n",
    "\n",
    "BUSCO (Benchmarking Universal Single-Copy Orthologs) is a program for assessing the quality of genome assemblies. It evaluates the completeness and accuracy of genome assemblies by predicting and annotating single-copy orthologous genes that are expected to be present in all members of a specific taxonomic group.\n",
    "\n",
    "BUSCO runs in a single command that evokes the following steps:\n",
    "\n",
    "1. Loads a reference database of single-copy orthologous genes that are conserved across the taxon, which the user specifies.\n",
    "2. It predicts genes in the input assembly using [prodigal](https://github.com/hyattpd/Prodigal) for prokaryotes and [Augustus](https://github.com/Gaius-Augustus/Augustus) or [metaeuk](https://github.com/soedinglab/metaeuk) for eukaryotes. This step narrows down the regions of the assembly to analyse further.\n",
    "3. Once genes are predicted, BUSCO uses [HMMER](https://github.com/EddyRivasLab/hmmer) to evaluate orthology and duplication of single-copy genes on the predicted genes. At this step, BUSCO takes the reference dabatase of single-copy genes (note that the database consists of HMMER profiles!) and feeds it to HMMER, which then predicts similar genes in the set of regions predicted before.\n",
    "4. BUSCO classifies predicted genes based on the number of copies and their completeness as annotated by HMMER. If the orthologues are annotated once in the set of predicted genes, then that gene is classified as \"single complete\". If it is annotated more than once in the set of predicted genes, then the gene is classified as \"duplicated\". If only a partial gene is annotated, then it is classified as \"fragmented\". If it is not annotated, then it is presummed \"missing\".\n",
    "\n",
    "### 2.1. The Borrelia dataset\n",
    "\n",
    "We will run BUSCO on the genome assemblies for the *Borrelia* Bacteria that we assembled in the last practical. For those assemblies, we simulated Illumina reads with 1x and 3x error rates, and sequencing efforts of 5x, 10x, and 20x read depth. Take the singularity code and make it into a **script** for running BUSCO in a single sample so that you can use in the future with other samples and lineages. Then, create a **loop** to run that script in all the bacterial assemblies.\n",
    "\n",
    "In the following command, you are first calling `singularity` to start the container or \"virtual machine\". Then you are telling singularity to `run` a command within the container. In this case, your command is `busco -l lineage -m genome -i assembly.fasta --out prefix_busco -f`. The argument `-B` specifies the \"source\" and \"destination\" paths (or outside and inside paths) that singularity uses to mount the container. Both paths must be specified with the format: src\\[:dest\\[:opts\\]\\], where opts is \"mount options\". The mount options can be 'ro' (read-only) or 'rw' (read/write, the default).\n",
    "\n",
    "Because a container is meant to be a closed system, singularity allows you access your local paths using [bind mounts](https://docs.sylabs.io/guides/3.5/user-guide/bind_paths_and_mounts.html). Bassically, bind mounts allow you to read and write data on the host system easily. There are two ways of specifying bind mounts: system-defined bind paths and user-defined bind paths. **System-defined bind paths** are derived from your system's variables, e.g. `$HOME` and `$PWD`. **User-defined bind paths** are passed to `singularity run` via the `-B` argument and it is a path chosen by the user because the input data is there, or it is the user's working folder.\n",
    "\n",
    "Finally, `*.sif` files are container files, in our case, .\n",
    "\n",
    "busco file `busco_v is the file containing BUSCO's container.\n",
    "\n",
    "Regarding BUSCO's command `busco -l lineage -m genome -i assembly.fasta --out prefix_busco -f`, lineage (`-l`) should be replaced by the name of a lineage database depending on the organism that you are assembling. You can check the list [here](https://busco-data.ezlab.org/v5/data/lineages/). It is advisable to chose the lowest taxonomic level possible that is closest to your organism. For example, we know that *Borrelia* belongs to Spirochaetales, thus, we can use the closest database to Spirochaetales instead of simply using the \"bacteria\" database. It is also advisable to compare results obtained from using different databases. The data method for analysis (`-m`) can be genome or transcriptome (amongst others). `-f` forces BUSCO to delete previous runs with the same `--out` prefix name before continuing.v1.sif` using "
   ]
  },
  {
   "cell_type": "code",
   "execution_count": null,
   "id": "9d31d0bf-0b07-4f0d-89a1-3811d484e50d",
   "metadata": {},
   "outputs": [],
   "source": [
    "%%bash\n",
    "\n",
    "# This is how you run BUSCO by launching the singularity \"sandbox\"\n",
    "singularity run -B $PWD busco_v5.2.2_cv1.sif busco -l lineage -m genome -i assembly.fasta --out prefix_busco -f\n"
   ]
  },
  {
   "cell_type": "markdown",
   "id": "d9df81ad-4cc2-4854-877d-483f4152e694",
   "metadata": {},
   "source": [
    "<div class=\"alert alert-block alert-success\">\n",
    "<b>TO DO: </b>Create a script file to run BUSCO's container on individual samples. Use Bash's positional variables to pass either a file name prefix or a file name and the information you need to run the command. Then, create a loop to run your script in all bacterial genome assemblies. Copy-paste your code in your <i>answersL8_name.txt</i> file.</div>"
   ]
  },
  {
   "cell_type": "markdown",
   "id": "69bccf77-32c6-4c0d-a091-4567f86cdd33",
   "metadata": {},
   "source": [
    "Solution hidden here\n",
    "\n",
    "<!--\n",
    "\n",
    "# create a script file with nano:\n",
    "\n",
    "nano busco_singularity.sh\n",
    "\n",
    "# create the script using positional variables in bash\n",
    "# https://www.computerhope.com/jargon/p/positional-parameter.htm\n",
    "# pay particular attention to the paths and make sure they reflect your folder structure!\n",
    "\n",
    "#-------------- BEGINING OF THE FILE\n",
    "#! /bin/bash\r\n",
    "\r\n",
    "# $1 is the path to the *scaffold.fasta file including the file name and from the current directory\r\n",
    "# $2 is the lineage\r\n",
    "# run as ./singularity_busco.sh absolute/path/ spirochaetales\r\n",
    "\r\n",
    "NAME=${1##*/}\r\n",
    "\r\n",
    "echo \"Running from folder $PWD\"\r\n",
    "echo \"Processing sample {NAME}\"\r\n",
    "\r\n",
    "\r\n",
    "singularity run -B $PWD busco_v5.2.2_cv1.sif busco -l $2 -m genome -i $PWD/$1 --out \"${NAME%.*\"_busco -f\r\n",
    "\r\n",
    "\r\n",
    "echo \"Don\n",
    "#-------------- END OF THE FILE\n",
    "\n",
    "# create a loop to run it\n",
    "\n",
    "for SAMPLE in bacteria/*_out; do\r\n",
    "    ./singularity_busco.sh ${SAMPLE}/*fastaspirochaetalesi_odb10;\r\n",
    "do\n",
    "nee with ${NAME}\"\n",
    "-->"
   ]
  },
  {
   "cell_type": "markdown",
   "id": "cc7321c4-5a59-4e14-9955-8df063affb50",
   "metadata": {},
   "source": [
    "### 2.2. The Takifugu fish dataset\n",
    "\n",
    "Use the same code and scripts you created above to run BUSCO on two or more fish assemblies."
   ]
  },
  {
   "cell_type": "markdown",
   "id": "13b05baf-4d11-47e5-8d68-c501162c8582",
   "metadata": {},
   "source": [
    "---\n",
    "\n",
    "## 3. Checking out the results\n",
    "\n",
    "We have generated a lot of folders with the output from running BUSCO on the bacteria and fish assemblies. How can we quickly and efficiently check which samples did better than others?\n",
    "\n",
    "BUSCO results are summarised in a file with prefix `short_summary.specific.*` located within BUSCO's output folder, which should have the prefix name you passed to BUSCO using the `--out` argument. In the example above, the command passed told BUSCO to generate an output folder called \"prefix_busco\". The file contains a summary string that shows the percentage of complete (single and duplicated), fragmented, and missing ortholog genes.\n",
    "\n",
    "The summary looks like this:\n",
    "\n",
    "`C:34.8%[S:34.8%,D:0.0%],F:9.6%,M:55.6%,n:345`\n",
    "\n",
    "The summary is followed by the count of genes:\n",
    "\n",
    "- 120     Complete BUSCOs (C)  \n",
    "- 120     Complete and single-copy BUSCOs (S)  \n",
    "- 0       Complete and duplicated BUSCOs (D)  \n",
    "- 33      Fragmented BUSCOs (F)  \n",
    "- 192     Missing BUSCOs (M) \n",
    "- 345     Total BUSCO groups searched\n"
   ]
  },
  {
   "cell_type": "markdown",
   "id": "afd0e347-f0a3-464a-a466-ab3bd3e8b5f1",
   "metadata": {},
   "source": [
    "<div class=\"alert alert-block alert-success\">\n",
    "<b>TO DO: </b>Look at your folder structure. Write a script to print into standard output (STDOUT, your screen) the name of the sample or assembly and the BUSCO short summary string. Copy-paste your code to your <i>answersL8_name.txt</i> file and append the result of your code with <i>>></i>.</div>"
   ]
  },
  {
   "cell_type": "markdown",
   "id": "e3763042-08af-4c23-a40a-94a2b36ec7ba",
   "metadata": {},
   "source": [
    "Solution hidden here\n",
    "\n",
    "<!--\n",
    "\n",
    "# my BUSCO output folders for the bateria data are called like this:\n",
    "sim5error1_busco\n",
    "sim5error3_busco\n",
    "sim10error1_busco\n",
    "sim10error3_busco\n",
    "\n",
    "# etc..\n",
    "\n",
    "my code would be:\n",
    "\n",
    "for sample in *_busco; do echo $sample; grep '%' $sample/short*txt; done\n",
    "nee with ${NAME}\"\n",
    "-->"
   ]
  },
  {
   "cell_type": "markdown",
   "id": "c74cbb52-ca21-4db3-858a-d556d3520004",
   "metadata": {},
   "source": [
    "<div class=\"alert alert-block alert-success\">\n",
    "<b>TO DO: </b>Which read-depth and error rate resulted in the most complete genome assembly for <i>Borrelia</i>? Which read-depth and error rate resulted in the worst genome assembly? Add your answer to your <i>answersL8_name.txt</i>.</div>"
   ]
  },
  {
   "cell_type": "markdown",
   "id": "b1ef8a27-79b0-4b87-a79d-739627fcdee7",
   "metadata": {},
   "source": [
    "---\n",
    "\n",
    "## 4. Reference-based assembly and BUSCO scores\n",
    "\n",
    "We have evaluated the BUSCO scores of our Bacteria (and fish) assemblies and we understand the effect of read-depth and error rate in the quality of the assembly. Now, we will generate two reference-based genome assembly of *Borrelia* using `SPAdes` and two sets of Illumina reads we simulated during the last practical. One set will have low read-depth (5x) and the other high read-dept (20x); both sets will have error rate 3x. After we assemble the genomes again, we will run BUSCO on both assemblies and compare how much the assembly improves when there is a reference genome available to guide the assembly process.\n",
    "\n",
    "Use the same environment from the last practical (`reseq`), the Illumina reads we simulated (`sim5error3*` and `sim20error3*`), and the longest contig you retrieved from the reference genome (``)."
   ]
  },
  {
   "cell_type": "code",
   "execution_count": null,
   "id": "5bf34e37-e6e6-466d-925f-cf5dc942486a",
   "metadata": {},
   "outputs": [],
   "source": [
    "%%bash\n",
    "\n",
    "# deactivate the current environment\n",
    "conda deactivate\n",
    "\n",
    "# activate the last environment\n",
    "conda activate reseq\n",
    "\n",
    "# run SPAdes using the longest contig as reference and "
   ]
  }
 ],
 "metadata": {
  "kernelspec": {
   "display_name": "Python 3 (ipykernel)",
   "language": "python",
   "name": "python3"
  },
  "language_info": {
   "codemirror_mode": {
    "name": "ipython",
    "version": 3
   },
   "file_extension": ".py",
   "mimetype": "text/x-python",
   "name": "python",
   "nbconvert_exporter": "python",
   "pygments_lexer": "ipython3",
   "version": "3.8.17"
  }
 },
 "nbformat": 4,
 "nbformat_minor": 5
}
