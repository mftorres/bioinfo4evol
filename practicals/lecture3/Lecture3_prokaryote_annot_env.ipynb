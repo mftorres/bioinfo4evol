{
 "cells": [
  {
   "cell_type": "markdown",
   "id": "6af67c28-28a5-4215-9562-6497848a8761",
   "metadata": {},
   "source": [
    "# Lecture 3 -  Sequencing technologies and file formats"
   ]
  },
  {
   "cell_type": "markdown",
   "id": "44deff89-8131-45b4-a7f1-8625d1adbeb4",
   "metadata": {},
   "source": [
    "## Prokaryote genome annotation and effect of read type and coverage\n",
    "\n",
    "This tutorial will walk you trough the process of producing and annotating a reference-based *Wolbachia* genome using reads from different sequencing technologies. The aim is to compare the effect of read type on the prediction and annotation of genes, which ultimately depends on site call certainty, site read coverage, and assembly completeness.\n",
    "\n",
    "During this tutorial, you will become familiar with different file formats commonly used in Bioinformatics. You will learn to identify the metadata and quality information encoded in the files, perform data manipulations, and convert files between formats. We will also go over the SAM/BAM file format, CIGAR strings, information filters, and statistics.\n",
    "\n",
    "---"
   ]
  },
  {
   "cell_type": "markdown",
   "id": "3d5fd4cd-fe31-4a20-84c6-6c08e1aed43e",
   "metadata": {},
   "source": [
    "## 1. Prepare the environment\n",
    "\n",
    "We will create a new environment that contains only the tools we will use during the practical. Currently, a couple of programs that we need create conflicts unsolvable by Conda. For that reason, the notebook is a PDF and you can copy-paste or write your commands in your command prompt instead of executing the code from the notebook."
   ]
  },
  {
   "cell_type": "raw",
   "id": "c6f14a3f-ac5b-48ea-9996-30b6c6b9da14",
   "metadata": {},
   "source": [
    "%%bash\n",
    "\n",
    "conda create -n prokka bwa samtools prokka\n",
    "conda activate prokka\n",
    "conda install minimap2\n",
    "conda install -c bioconda bcftools\n",
    "conda install -c bioconda vcftools\n",
    "conda install -c bioconda pyfaidx\n",
    "pip install bashplotlib\n",
    "\n",
    "# the following lines solve some issues with samtools, don't forget to run them!\n",
    "cd ~/anaconda3/envs/prokka/lib\n",
    "ln -s libcrypto.so.1.1 libcrypto.so.1.0.0\n",
    "\n",
    "# after running that, you can go back to your working folder"
   ]
  },
  {
   "cell_type": "markdown",
   "id": "39a542e1-a3c5-4fac-8b9b-4f8f787f7fcb",
   "metadata": {},
   "source": [
    "For the tutorial, we need to download large read files from the Sequence Read Archive ([SRA](https://www.ncbi.nlm.nih.gov/sra)) using [sra-toolkit](https://hpc.nih.gov/apps/sratoolkit.html) commands. Follow the instructions below to install the toolkit. We will download the data in the background using the command `nohup` ([no hang up](https://en.wikipedia.org/wiki/Nohup). `nohup` allows you to continue working on the command line prompt without killing the processes that are running. If you feel adventurous, you can modify the code to download the data and run it as a loop.\n",
    "\n",
    "After downloading the data below, **go to the course's learning environment and download the rest of files we will nned from the Lecture 3 folder.**"
   ]
  },
  {
   "cell_type": "raw",
   "id": "eb4d286d-0e51-4847-8a9b-e8a510c6b76e",
   "metadata": {},
   "source": [
    "%%bash\n",
    "\n",
    "# go to your Linux home directory\n",
    "cd $HOME\n",
    "\n",
    "# sra-toolkit for Ubuntu subsystems and Linux (you are running jobs from Linux\n",
    "wget https://ftp-trace.ncbi.nlm.nih.gov/sra/sdk/3.0.6/sratoolkit.3.0.6-ubuntu64.tar.gz\n",
    "\n",
    "# untar and uncompress\n",
    "tar xvzf sratoolkit.3.0.6-ubuntu64.tar.gz\n",
    "\n",
    "# set a variable pointing to the command that we will use\n",
    "cd $HOME/sratoolkit.3.0.6-ubuntu64/bin\n",
    "FASTDUMP=\"$PWD\"/fastq-dump\n",
    "echo $FASTDUMP\n",
    "\n",
    "# test that FASTDUMP was correctly installed\n",
    "$FASTDUMP --help\n",
    "\n",
    "# go back to the lectures' folder\n",
    "# edit the path to reflect the true path for you\n",
    "cd /mnt/c/Users/username/Documents/folder/\n",
    "\n",
    "# download samples. This command will keep the prompt busy and you won't be able to work\n",
    "$FASTDUMP --split-3 DRR353013\n",
    "\n",
    "# a useful command to run jobs in the \"background\" is nohup.\n",
    "# we are also redirecting any stdout message to a file, in case we need to troubleshoot things\n",
    "nohup $FASTDUMP --split-3 DRR353013 $2>> fastdump.out & # if you haven't downloaded it yet\n",
    "nohup $FASTDUMP --split-3 ERR10558085 $2>> fastdump.out &\n",
    "nohup $FASTDUMP --split-3 DRR351748 $2>> fastdump.out &\n",
    "\n",
    "# check the job is running using ps\n",
    "ps"
   ]
  },
  {
   "cell_type": "markdown",
   "id": "c6776928-5473-4472-b52f-b632fa454e71",
   "metadata": {},
   "source": [
    "Additionally, you should install [Tablet](https://ics.hutton.ac.uk/tablet/). Tablet is a graphical viewer for next generation sequence assemblies and alignments available to must operative systems.\n",
    "\n",
    "Go to [Tablet's download website](https://ics.hutton.ac.uk/tablet/download-tablet/), download the distribution that matches your machine (if you have Windows download the corresponding file), and install it."
   ]
  }
 ],
 "metadata": {
  "kernelspec": {
   "display_name": "Python 3 (ipykernel)",
   "language": "python",
   "name": "python3"
  },
  "language_info": {
   "codemirror_mode": {
    "name": "ipython",
    "version": 3
   },
   "file_extension": ".py",
   "mimetype": "text/x-python",
   "name": "python",
   "nbconvert_exporter": "python",
   "pygments_lexer": "ipython3",
   "version": "3.8.17"
  }
 },
 "nbformat": 4,
 "nbformat_minor": 5
}
