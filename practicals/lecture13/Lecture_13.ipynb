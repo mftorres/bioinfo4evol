{
 "cells": [
  {
   "cell_type": "markdown",
   "id": "b3bc3797-0df4-49f7-8791-7a6ecca3b3f9",
   "metadata": {},
   "source": [
    "# Lecture 13 Phylogenetics on the command line\n",
    "\n",
    "---\n",
    "\n",
    "## 1. Environments"
   ]
  },
  {
   "cell_type": "code",
   "execution_count": null,
   "id": "d74d7662-6911-42bf-bfe6-8b8393cf8039",
   "metadata": {},
   "outputs": [],
   "source": [
    "%%bash\n",
    "\n",
    "# environment for BI analyses\n",
    "conda create -n beast beagle -c bioconda\n",
    "conda activate beast\n",
    "conda install -c anaconda java-1.8.0-openjdk-devel-cos7-s390x\n",
    "conda install -c bioconda astral-tree\n",
    "# in your working folder:\n",
    "wget https://github.com/beast-dev/beast-mcmc/releases/download/v1.10.4/BEASTv1.10.4.tgz\n",
    "tar xvzf BEASTv1.10.4.tgz\n",
    "https://github.com/beast-dev/tracer/releases/download/v1.7.2/Tracer_v1.7.2.tgz\n",
    "tar xvzf Tracer_v1.7.2.tgz\n",
    "\n",
    "# environment for ML analyses\n",
    "conda create -n phylo iqtree muscle mafft trimal openjdk=11\n",
    "# activate the environment\n",
    "conda activate phylo\n",
    "# install the rest of the packages we need\n",
    "conda install -c bioconda clipkit\n",
    "conda install -c bioconda cd-hit\n",
    "conda install -c bioconda seqkit\n",
    "conda install -c bioconda raxml-ng"
   ]
  },
  {
   "cell_type": "markdown",
   "id": "379a8982-7b45-4440-b6ed-5f9083b31098",
   "metadata": {},
   "source": [
    "---\n",
    "\n",
    "## 2. Preparing the sequence data from BUSCO score results\n",
    "\n",
    "These data is from the Takifugu assemblies we did a few weeks ago. Make sure your path to the results coincides with your folder structure"
   ]
  },
  {
   "cell_type": "code",
   "execution_count": null,
   "id": "e06b80fc-121c-434e-8bf9-641137c2955d",
   "metadata": {},
   "outputs": [],
   "source": [
    "%%bash\n",
    "\n",
    "conda deactivate; conda activate phylo\n",
    "\n",
    "# check how many of the same genes are found across samples\n",
    "for i in *faa; do echo ${i%%.*} >> seqs_recovered.txt; ls *scaffolds_busco/run*/busco*/single*/${i%%.*}* | wc -l >> seqs_recovered.txt; done\n",
    "\n",
    "# append sample name to header of single gene sequences\n",
    "# ran inside lecture 8\n",
    "for i in *_scaffolds_busco; do SAMPLE=${i%%_*}; echo $SAMPLE; sed -i -E \"s/>.+/>${SAMPLE}/g\" ${SAMPLE}_*_busco/run_*/busco*/single_*/*.faa; done"
   ]
  },
  {
   "cell_type": "code",
   "execution_count": null,
   "id": "c6b78b9c-f0d8-4135-a98c-b28a3af5a9f9",
   "metadata": {},
   "outputs": [],
   "source": [
    "%%bash\n",
    "\n",
    "conda deactivate; conda activate phylo\n",
    "\n",
    "# selected the genes with all samples represented, catting the genes in a single file\n",
    "# running within lecture13/data\n",
    "for i in 103348at7898 112660at7898 114667at7898 119924at7898 129688at7898 136410at7898 39654at7898; do cat *scaffolds_busco/run*/busco*/single*/$i* >> \"${i}\"_all.faa; done\n",
    "\n",
    "# align them all\n",
    "for i in *faa; do muscle -align ${i} -output \"${i%%.*}\".aln; done\n",
    "\n",
    "# adding line break at then end for the concatenation to work\n",
    "for i in *aln; do echo >> ${i}; done\n",
    "\n",
    "# make alignment files single liners\n",
    "for i in *aln; do awk '/^>/ { if(NR>1) print \"\";  printf(\"%s\\n\",$0); next; } { printf(\"%s\",$0);}  END {printf(\"\\n\");}' < ${i} > \"${i%%.*}\".SL.aln; done\n",
    "\n",
    "# run the concatenating tool from seqkit\n",
    "# \"if your initial files are having unequal number of species than the output files will have less number of species\"\n",
    "# \"but if you have equal number of species to begin with, then the output file will have same number of species\"\n",
    "seqkit concat *_all.SL.aln > all_concat.SL.aln"
   ]
  },
  {
   "cell_type": "markdown",
   "id": "07c9cc98-f08f-4301-9c92-4bf51dde3d72",
   "metadata": {},
   "source": [
    "---\n",
    "\n",
    "## 3. Maximum Likelihood with IQtree (basics)\n"
   ]
  },
  {
   "cell_type": "code",
   "execution_count": null,
   "id": "5ededd4a-6c35-43e6-8ab0-4c49669bc229",
   "metadata": {},
   "outputs": [],
   "source": [
    "%%bash\n",
    "\n",
    "conda deactivate; conda activate phylo\n",
    "\n",
    "# Calculating one ML tree for each gene\n",
    "for i in *_all.aln; do iqtree -s $i --prefix \"${i%%.*}\"; done\n",
    "\n",
    "# Calculating one ML tree for the concatenated allignment\n",
    "iqtree -s all_concat.SL.aln --prefix all_concat.iqtree"
   ]
  },
  {
   "cell_type": "markdown",
   "id": "1cc59bfe-4aac-445b-8e63-e6dc9ca08ef6",
   "metadata": {},
   "source": [
    "---\n",
    "\n",
    "## 4. Maximum Likelihood with RAxML NG (basics)"
   ]
  },
  {
   "cell_type": "code",
   "execution_count": null,
   "id": "37795b4f-3975-4973-8368-cbfa7e397ab7",
   "metadata": {},
   "outputs": [],
   "source": [
    "%%bash\n",
    "\n",
    "conda deactivate; conda activate phylo\n",
    "\n",
    "# Calculating one ML tree for each gene\n",
    "# for normal versions of RAxML you can add the '-f a' flag to do optimization, bootstrap, and annotation in a single step\n",
    "# \"By default, RAxML-NG will perform MRE-based bootstopping test after every 50 replicates\"\n",
    "# \"and terminate once the diagnostic statistics drops below the cutoff value.\"\n",
    "# raxml-ng --all --msa <DATFILE> --model <MODEL> --prefix T15 --seed 2 --threads 2 --bs-metric fbp,tbe\n",
    "for i in *_all.SL.aln; do raxml-ng --all -msa $i --prefix \"${i%%.*}\".raxml --model BLOSUM62 --seed 666; done \n",
    "\n",
    "# Calculating one ML tree for the concatenated allignment\n",
    "raxml-ng --all -msa all_concat.SL.aln --prefix all_concat.raxml --model BLOSUM62 --seed 666"
   ]
  },
  {
   "cell_type": "markdown",
   "id": "5bf8c8a4-c4d5-4098-aa95-e74c202d7537",
   "metadata": {},
   "source": [
    "---\n",
    "\n",
    "## 5. Summarizing gene trees into species trees with Astral"
   ]
  },
  {
   "cell_type": "code",
   "execution_count": null,
   "id": "812f66d2-9d1e-438f-817e-b6cd7c9f3c85",
   "metadata": {},
   "outputs": [],
   "source": [
    "%%bash\n",
    "\n",
    "conda deactivate; conda activate beast\n",
    "\n",
    "cat *.raxml.bestTree > all_raxml.bestrees\n",
    "cat *.treefile > all_iqtrees.bestrees\n",
    "\n",
    "astral -i all_raxml.bestrees -o all_raxml_spptree.tree -t 1\n",
    "astral -i all_iqtrees.bestrees -o all_iqtree_spptree.tree -t 1"
   ]
  },
  {
   "cell_type": "markdown",
   "id": "2ba03935-6557-4fcb-83ca-a127eb4d3548",
   "metadata": {},
   "source": [
    "---\n",
    "\n",
    "## 6. Gene congruence using Astral"
   ]
  },
  {
   "cell_type": "code",
   "execution_count": null,
   "id": "5e5002fc-9014-4954-bd32-b26834be5b8b",
   "metadata": {},
   "outputs": [],
   "source": [
    "%%bash\n",
    "\n",
    "conda deactivate; conda activate beast\n",
    "\n",
    "iqtree2 -t all_raxml_spptree.tree --gcf all_raxml.bestrees --prefix  concord_raxml\n",
    "\n",
    "iqtree2 -t all_iqtree_spptree.tree --gcf all_iqtrees.bestrees --prefix concord_iqtree"
   ]
  },
  {
   "cell_type": "markdown",
   "id": "06cc4458-e7ce-476b-b904-9560eab64ad7",
   "metadata": {},
   "source": [
    "---\n",
    "\n",
    "## 7. Bayesian Inference with Beast\n",
    "\n",
    "Please refer to the slides for instructions on how to set up the models. I am presenting here the commands that we need to execute from the command line"
   ]
  },
  {
   "cell_type": "code",
   "execution_count": null,
   "id": "92f9061a-49fc-4429-81a9-55e63b16ce62",
   "metadata": {},
   "outputs": [],
   "source": [
    "%%bash\n",
    "\n",
    "conda deativate; conda activate beast\n",
    "\n",
    "# beast analysis unlinked trees linked substitution and clock models\n",
    "./beast -java -overwrite 103348at7898_all_1.xml\n",
    "./beast -java -overwrite 103348at7898_all_2.xml\n",
    "\n",
    "## joint trees split substitution models and linked tree and clock models\n",
    "./beast -java -overwrite linked_1.xml\n",
    "./beast -java -overwrite linked_2.xml\n",
    "\n",
    "# evaluate convergence\n",
    "./tracer\n",
    "\n",
    "# combine trees for each gene\n",
    "for i in 103348at7898 112660at7898 114667at7898 119924at7898 129688at7898 136410at7898 39654at7898; do \n",
    "     ./logcombiner -trees -burnin 100 \"103348at7898_all_1.${i}_all.SL.aln.(time).trees\" \\\n",
    "     \"103348at7898_all_2.${i}_all.SL.aln.(time).trees\" \\\n",
    "     \"${i}\"_all_combined_time.trees;\n",
    "done\n",
    "\n",
    "# treeannotator to get consensus from combined files for each gene\n",
    "# get the maximum clade credibility tree using \"common ancestor' as the method for summarizing heights along the tree\n",
    "for i in 103348at7898 112660at7898 114667at7898 119924at7898 129688at7898 136410at7898 39654at7898; do \n",
    "     ./treeannotator -heights ca ${i}_all_combined_time.trees\n",
    "     \"${i}\"_all_combined_time.mcct;\n",
    "done\n",
    "\n",
    "# combine the tree files for the linked-tree analyses\n",
    "./logcombiner -trees -burnin 100 \"linked_1.(time).trees\" \"linked_2.(time).trees\" linked_combined_time.trees\n",
    "\n",
    "# get the maximum clade credibility tree using \"common ancestor' as the method for summarizing heights along the tree\n",
    "./treeannotator -heights ca linked_combined_time.trees linked_combined_time.mcct"
   ]
  },
  {
   "cell_type": "markdown",
   "id": "17a3dbc0-9412-47d9-ade4-dc592c06d69a",
   "metadata": {},
   "source": [
    "---\n",
    "\n",
    "## 8. Tree visualisation using Figtree"
   ]
  },
  {
   "cell_type": "code",
   "execution_count": null,
   "id": "b5b08f22-6d8f-4cfb-afbb-95f8035594f5",
   "metadata": {},
   "outputs": [],
   "source": [
    "%%bash\n",
    "\n",
    "https://github.com/rambaut/figtree/releases/download/v1.4.4/FigTree_v1.4.4.tgz\n",
    "tar xvzf FigTree_v1.4.4.tgz\n",
    "\n",
    "java -Djava.library.path=\"~/anaconda3/envs/beast/lib\" -jar \"lib/figtree.jar\""
   ]
  },
  {
   "cell_type": "markdown",
   "id": "e79fa451-4232-462e-acd6-ca197a2da5de",
   "metadata": {},
   "source": [
    "---\n",
    "\n",
    "## 9. References and resources\n",
    "\n",
    "Suchard MA, Lemey P, Baele G, Ayres DL, Drummond AJ & Rambaut A (2018) Bayesian phylogenetic and phylodynamic data integration using BEAST 1.10 Virus Evolution 4, vey016. DOI:10.1093/ve/vey016​  \n",
    "https://beast.community/​  \n",
    "https://github.com/beast-dev/beast-mcmc/releases​  \n",
    "https://artic.network/how-to-read-a-tree.html  \n",
    "\n",
    "Kozlov, A.M., Darriba, D., Flouri, T., Morel, B. and Stamatakis, A., 2019. RAxML-NG: a fast, scalable and user-friendly tool for maximum likelihood phylogenetic inference. Bioinformatics, 35(21), pp.4453-4455.  \n",
    "https://github.com/amkozlov/raxml-ng  \n",
    "\n",
    "B.Q. Minh, H.A. Schmidt, O. Chernomor, D. Schrempf, M.D. Woodhams, A. von Haeseler, R. Lanfear (2020) IQ-TREE 2: New models and efficient methods for phylogenetic inference in the genomic era. Mol. Biol. Evol., 37:1530-1534. https://doi.org/10.1093/molbev/msaa015  \n",
    "http://www.iqtree.org/doc/Tutorial  \n",
    "\n",
    "W Shen, S Le, Y Li*, F Hu*. SeqKit: a cross-platform and ultrafast toolkit for FASTA/Q file manipulation. PLOS ONE. doi:10.1371/journal.pone.0163962.  \r",
    "https://bioinf.shenwei.me/seqkit/  \n",
    "\r\n"
   ]
  }
 ],
 "metadata": {
  "kernelspec": {
   "display_name": "Python 3 (ipykernel)",
   "language": "python",
   "name": "python3"
  },
  "language_info": {
   "codemirror_mode": {
    "name": "ipython",
    "version": 3
   },
   "file_extension": ".py",
   "mimetype": "text/x-python",
   "name": "python",
   "nbconvert_exporter": "python",
   "pygments_lexer": "ipython3",
   "version": "3.8.17"
  }
 },
 "nbformat": 4,
 "nbformat_minor": 5
}
